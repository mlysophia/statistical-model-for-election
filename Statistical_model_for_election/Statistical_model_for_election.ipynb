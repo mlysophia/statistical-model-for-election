{
 "cells": [
  {
   "cell_type": "code",
   "execution_count": 1,
   "metadata": {},
   "outputs": [],
   "source": [
    "import numpy as np\n",
    "import matplotlib.pyplot as plt\n",
    "import pandas as pd\n",
    "import pyreadr\n",
    "from datetime import date"
   ]
  },
  {
   "cell_type": "markdown",
   "metadata": {},
   "source": [
    "### 3. statistical model for election"
   ]
  },
  {
   "cell_type": "markdown",
   "metadata": {},
   "source": [
    "**poll aggregators**"
   ]
  },
  {
   "cell_type": "code",
   "execution_count": 2,
   "metadata": {},
   "outputs": [],
   "source": [
    "# generate polls"
   ]
  },
  {
   "cell_type": "code",
   "execution_count": 3,
   "metadata": {},
   "outputs": [],
   "source": [
    "def generate_polls(p,N):\n",
    "    vote = np.zeros(N)\n",
    "    prob = np.random.rand(N)\n",
    "    vote[prob<=p] = 1\n",
    "    return vote"
   ]
  },
  {
   "cell_type": "code",
   "execution_count": 4,
   "metadata": {},
   "outputs": [],
   "source": [
    "p = (0.039+1) / 2\n",
    "size = [1298, 533, 1342, 897, 774, 254, 812, 324, 1291, 1056, 2172, 516]\n",
    "polls = [generate_polls(p,N) for N in size]"
   ]
  },
  {
   "cell_type": "code",
   "execution_count": 5,
   "metadata": {},
   "outputs": [],
   "source": [
    "# compare predict"
   ]
  },
  {
   "cell_type": "code",
   "execution_count": 6,
   "metadata": {},
   "outputs": [],
   "source": [
    "def pred_vote(poll,conf):\n",
    "    mu = np.mean(poll)\n",
    "    sig = np.sqrt(mu * (1-mu) / np.size(poll))\n",
    "    est = 2*mu-1\n",
    "    return [est, 2*(mu-(1+conf)*sig)-1, 2*(mu+(1+conf)*sig)-1]"
   ]
  },
  {
   "cell_type": "code",
   "execution_count": 7,
   "metadata": {},
   "outputs": [],
   "source": [
    "est = [pred_vote(poll,0.95) for poll in polls]\n",
    "est.append(pred_vote(np.hstack(polls), 0.95))\n",
    "est = np.array(est)"
   ]
  },
  {
   "cell_type": "code",
   "execution_count": 8,
   "metadata": {},
   "outputs": [],
   "source": [
    "# visualization"
   ]
  },
  {
   "cell_type": "code",
   "execution_count": 9,
   "metadata": {
    "scrolled": true
   },
   "outputs": [
    {
     "data": {
      "image/png": "[encoded data removed]",
      "text/plain": [
       "<Figure size 432x288 with 1 Axes>"
      ]
     },
     "metadata": {
      "needs_background": "light"
     },
     "output_type": "display_data"
    }
   ],
   "source": [
    "plt.plot(est[:,0], range(13), 'o', est[:,1:], range(13), 'b.')\n",
    "plt.grid()\n",
    "plt.show()"
   ]
  },
  {
   "cell_type": "code",
   "execution_count": 10,
   "metadata": {},
   "outputs": [],
   "source": [
    "# prediction for 2016 president election"
   ]
  },
  {
   "cell_type": "code",
   "execution_count": 11,
   "metadata": {},
   "outputs": [],
   "source": [
    "rdata = pyreadr.read_r('polls_us_election_2016.rda')"
   ]
  },
  {
   "cell_type": "code",
   "execution_count": 12,
   "metadata": {
    "scrolled": false
   },
   "outputs": [
    {
     "name": "stdout",
     "output_type": "stream",
     "text": [
      "odict_keys(['polls_us_election_2016', 'results_us_election_2016'])\n"
     ]
    }
   ],
   "source": [
    "print(rdata.keys())"
   ]
  },
  {
   "cell_type": "code",
   "execution_count": 13,
   "metadata": {},
   "outputs": [],
   "source": [
    "polls = rdata['polls_us_election_2016'].copy()"
   ]
  },
  {
   "cell_type": "code",
   "execution_count": 14,
   "metadata": {},
   "outputs": [],
   "source": [
    "polls.loc[:,:] = polls[(polls['state']=='U.S.') & (polls['enddate']>=date(2016,10,31)) & \\\n",
    "              (polls['grade'].isin(['A+','A','A-','B+'])|polls['grade'].isna())]\n",
    "polls['spread'] = (polls['rawpoll_clinton'] - polls['rawpoll_trump']) / 100"
   ]
  },
  {
   "cell_type": "code",
   "execution_count": 15,
   "metadata": {},
   "outputs": [
    {
     "data": {
      "text/html": [
       "<div>\n",
       "<style scoped>\n",
       "    .dataframe tbody tr th:only-of-type {\n",
       "        vertical-align: middle;\n",
       "    }\n",
       "\n",
       "    .dataframe tbody tr th {\n",
       "        vertical-align: top;\n",
       "    }\n",
       "\n",
       "    .dataframe thead th {\n",
       "        text-align: right;\n",
       "    }\n",
       "</style>\n",
       "<table border=\"1\" class=\"dataframe\">\n",
       "  <thead>\n",
       "    <tr style=\"text-align: right;\">\n",
       "      <th></th>\n",
       "      <th>state</th>\n",
       "      <th>startdate</th>\n",
       "      <th>enddate</th>\n",
       "      <th>pollster</th>\n",
       "      <th>grade</th>\n",
       "      <th>samplesize</th>\n",
       "      <th>population</th>\n",
       "      <th>rawpoll_clinton</th>\n",
       "      <th>rawpoll_trump</th>\n",
       "      <th>rawpoll_johnson</th>\n",
       "      <th>rawpoll_mcmullin</th>\n",
       "      <th>adjpoll_clinton</th>\n",
       "      <th>adjpoll_trump</th>\n",
       "      <th>adjpoll_johnson</th>\n",
       "      <th>adjpoll_mcmullin</th>\n",
       "      <th>spread</th>\n",
       "    </tr>\n",
       "  </thead>\n",
       "  <tbody>\n",
       "    <tr>\n",
       "      <th>0</th>\n",
       "      <td>U.S.</td>\n",
       "      <td>2016-11-03</td>\n",
       "      <td>2016-11-06</td>\n",
       "      <td>ABC News/Washington Post</td>\n",
       "      <td>A+</td>\n",
       "      <td>2220</td>\n",
       "      <td>lv</td>\n",
       "      <td>47.0</td>\n",
       "      <td>43.0</td>\n",
       "      <td>4.0</td>\n",
       "      <td>NaN</td>\n",
       "      <td>45.20163</td>\n",
       "      <td>41.7243</td>\n",
       "      <td>4.626221</td>\n",
       "      <td>NaN</td>\n",
       "      <td>0.04</td>\n",
       "    </tr>\n",
       "    <tr>\n",
       "      <th>1</th>\n",
       "      <td>NaN</td>\n",
       "      <td>NaN</td>\n",
       "      <td>NaN</td>\n",
       "      <td>NaN</td>\n",
       "      <td>NaN</td>\n",
       "      <td>NaN</td>\n",
       "      <td>NaN</td>\n",
       "      <td>NaN</td>\n",
       "      <td>NaN</td>\n",
       "      <td>NaN</td>\n",
       "      <td>NaN</td>\n",
       "      <td>NaN</td>\n",
       "      <td>NaN</td>\n",
       "      <td>NaN</td>\n",
       "      <td>NaN</td>\n",
       "      <td>NaN</td>\n",
       "    </tr>\n",
       "    <tr>\n",
       "      <th>2</th>\n",
       "      <td>U.S.</td>\n",
       "      <td>2016-11-02</td>\n",
       "      <td>2016-11-06</td>\n",
       "      <td>Ipsos</td>\n",
       "      <td>A-</td>\n",
       "      <td>2195</td>\n",
       "      <td>lv</td>\n",
       "      <td>42.0</td>\n",
       "      <td>39.0</td>\n",
       "      <td>6.0</td>\n",
       "      <td>NaN</td>\n",
       "      <td>42.02638</td>\n",
       "      <td>38.8162</td>\n",
       "      <td>6.844734</td>\n",
       "      <td>NaN</td>\n",
       "      <td>0.03</td>\n",
       "    </tr>\n",
       "  </tbody>\n",
       "</table>\n",
       "</div>"
      ],
      "text/plain": [
       "  state   startdate     enddate                  pollster grade samplesize  \\\n",
       "0  U.S.  2016-11-03  2016-11-06  ABC News/Washington Post    A+       2220   \n",
       "1   NaN         NaN         NaN                       NaN   NaN        NaN   \n",
       "2  U.S.  2016-11-02  2016-11-06                     Ipsos    A-       2195   \n",
       "\n",
       "  population  rawpoll_clinton  rawpoll_trump  rawpoll_johnson  \\\n",
       "0         lv             47.0           43.0              4.0   \n",
       "1        NaN              NaN            NaN              NaN   \n",
       "2         lv             42.0           39.0              6.0   \n",
       "\n",
       "   rawpoll_mcmullin  adjpoll_clinton  adjpoll_trump  adjpoll_johnson  \\\n",
       "0               NaN         45.20163        41.7243         4.626221   \n",
       "1               NaN              NaN            NaN              NaN   \n",
       "2               NaN         42.02638        38.8162         6.844734   \n",
       "\n",
       "   adjpoll_mcmullin  spread  \n",
       "0               NaN    0.04  \n",
       "1               NaN     NaN  \n",
       "2               NaN    0.03  "
      ]
     },
     "execution_count": 15,
     "metadata": {},
     "output_type": "execute_result"
    }
   ],
   "source": [
    "polls.head(3)"
   ]
  },
  {
   "cell_type": "code",
   "execution_count": 16,
   "metadata": {},
   "outputs": [
    {
     "data": {
      "text/plain": [
       "(4208, 16)"
      ]
     },
     "execution_count": 16,
     "metadata": {},
     "output_type": "execute_result"
    }
   ],
   "source": [
    "polls.shape"
   ]
  },
  {
   "cell_type": "code",
   "execution_count": 17,
   "metadata": {},
   "outputs": [],
   "source": [
    "# is 'd' normally distributed in prediction by different pollsters? No."
   ]
  },
  {
   "cell_type": "code",
   "execution_count": 18,
   "metadata": {},
   "outputs": [
    {
     "data": {
      "text/plain": [
       "(nan, nan, nan)"
      ]
     },
     "execution_count": 18,
     "metadata": {},
     "output_type": "execute_result"
    }
   ],
   "source": [
    "d_est = polls['spread'] @ polls['samplesize'] / polls['samplesize'].sum()\n",
    "p_est = (1+d_est)/2\n",
    "s_est = 1.95 * 2 * np.sqrt(p_est*(1-p_est)/polls['samplesize'].sum()) # why multiple 1.96 for 95% confidence interval?\n",
    "d_est, p_est, s_est"
   ]
  },
  {
   "cell_type": "code",
   "execution_count": 19,
   "metadata": {
    "scrolled": false
   },
   "outputs": [
    {
     "data": {
      "image/png": "[encoded data removed]",
      "text/plain": [
       "<Figure size 432x288 with 1 Axes>"
      ]
     },
     "metadata": {
      "needs_background": "light"
     },
     "output_type": "display_data"
    }
   ],
   "source": [
    "plt.hist(polls['spread'], bins=15)\n",
    "plt.show()"
   ]
  },
  {
   "cell_type": "code",
   "execution_count": 20,
   "metadata": {},
   "outputs": [],
   "source": [
    "# the bias of pollsters"
   ]
  },
  {
   "cell_type": "code",
   "execution_count": 21,
   "metadata": {},
   "outputs": [
    {
     "data": {
      "image/png": "[encoded data removed]",
      "text/plain": [
       "<Figure size 432x288 with 1 Axes>"
      ]
     },
     "metadata": {
      "needs_background": "light"
     },
     "output_type": "display_data"
    }
   ],
   "source": [
    "polls_pollster_d_est = polls.groupby(['pollster']).mean()['spread'].dropna()\n",
    "plt.plot(polls_pollster_d_est, polls_pollster_d_est.index, 'o')\n",
    "plt.grid()\n",
    "plt.show()"
   ]
  },
  {
   "cell_type": "markdown",
   "metadata": {},
   "source": [
    "Prior assumption for distribution and pollster bias lead to deviation from reality, thus the data-driven models are inrtoduced next."
   ]
  },
  {
   "cell_type": "markdown",
   "metadata": {},
   "source": [
    "**data-driven models**"
   ]
  },
  {
   "cell_type": "code",
   "execution_count": 22,
   "metadata": {},
   "outputs": [],
   "source": [
    "polls_pollster_newest = polls.groupby('pollster', group_keys=False).apply(lambda x: x[x['enddate'] == x['enddate'].max()])"
   ]
  },
  {
   "cell_type": "code",
   "execution_count": 23,
   "metadata": {},
   "outputs": [
    {
     "data": {
      "text/plain": [
       "(0.02898, 0.006246783553310037, 0.016798772071045426, 0.041161227928954575)"
      ]
     },
     "execution_count": 23,
     "metadata": {},
     "output_type": "execute_result"
    }
   ],
   "source": [
    "d_est = polls_pollster_newest['spread'].mean()\n",
    "s_est = np.sqrt(polls_pollster_newest['spread'].var()) / np.sqrt(np.size(polls_pollster_newest['spread']))\n",
    "d_est, s_est, d_est-1.95*s_est, d_est+1.95*s_est"
   ]
  },
  {
   "cell_type": "markdown",
   "metadata": {},
   "source": [
    "Data-driven models describe variability from sampling together with variability from pollster bias. Futhermore, variabilities at different levels can be modeled by more complex approaches. One of the most successful approaches used for this are hierarchical models, which can be explained in the context of Bayesian statistics. Next we build a hierarchical model using Bayesian statistics."
   ]
  },
  {
   "cell_type": "markdown",
   "metadata": {},
   "source": [
    "Assume prior distribution of d is normal distribution with aveage 0 and standard deviation 0.035."
   ]
  },
  {
   "cell_type": "code",
   "execution_count": 24,
   "metadata": {},
   "outputs": [
    {
     "data": {
      "text/plain": [
       "(0.028085343008790484,\n",
       " 0.0061496037628464865,\n",
       " 0.016093615671239837,\n",
       " 0.04007707034634113)"
      ]
     },
     "execution_count": 24,
     "metadata": {},
     "output_type": "execute_result"
    }
   ],
   "source": [
    "mu = 0\n",
    "tau = 0.035\n",
    "B = s_est**2 / (s_est**2 + tau**2)\n",
    "post_d = B * mu + (1-B) * d_est\n",
    "post_s = np.sqrt(1/(1/s_est**2+1/tau**2))\n",
    "post_d, post_s, post_d-1.95*post_s, post_d+1.95*post_s"
   ]
  },
  {
   "cell_type": "markdown",
   "metadata": {},
   "source": [
    "Parameters of prior distribution should come from history data in real prediction. Because the prior distribution used here has little relation to reality, it did not help predict better."
   ]
  },
  {
   "cell_type": "markdown",
   "metadata": {},
   "source": [
    "There is a commmon bias for polls conducted by any pollster. Why can not eliminate this common bias by subtraction of two polls?"
   ]
  },
  {
   "cell_type": "markdown",
   "metadata": {},
   "source": [
    "Decompose the result of one poll into the true spread, the randomness induced by pollster and the randomness induced by polling."
   ]
  },
  {
   "cell_type": "code",
   "execution_count": 25,
   "metadata": {},
   "outputs": [],
   "source": [
    "p = (0.021+1) / 2  # 0.021 is supposed real spread\n",
    "h = np.random.normal(loc=0.0, scale=0.025, size=(1,5))  # h is the randomness induced by pollster\n",
    "epi = np.random.normal(loc=0.0, scale=2*np.sqrt(p*(1-p)/2000), size=(6,5))  # epi is the randomness induced by polling 2000 is the assumed size of poll\n",
    "sample = 0.021 + h + epi"
   ]
  },
  {
   "cell_type": "code",
   "execution_count": 26,
   "metadata": {},
   "outputs": [
    {
     "data": {
      "image/png": "[encoded data removed]",
      "text/plain": [
       "<Figure size 432x288 with 1 Axes>"
      ]
     },
     "metadata": {
      "needs_background": "light"
     },
     "output_type": "display_data"
    }
   ],
   "source": [
    "plt.plot(sample.T[:,:], range(5), 'b.')\n",
    "plt.grid()\n",
    "plt.show()"
   ]
  },
  {
   "cell_type": "markdown",
   "metadata": {},
   "source": [
    "Considering the common bias, we modify the Bayesian procedure used at the beginning."
   ]
  },
  {
   "cell_type": "code",
   "execution_count": 27,
   "metadata": {},
   "outputs": [
    {
     "data": {
      "text/plain": [
       "(0.018793054963146413,\n",
       " 0.020751086238080068,\n",
       " -0.021671563201109717,\n",
       " 0.059257673127402544)"
      ]
     },
     "execution_count": 27,
     "metadata": {},
     "output_type": "execute_result"
    }
   ],
   "source": [
    "mu = 0\n",
    "tau = 0.035\n",
    "s_modified = np.sqrt(s_est**2+0.025**2)  # 0.025 is the standard deviation of common bias estimated from historial data\n",
    "B = s_modified**2 / (s_modified**2 + tau**2)\n",
    "post_d = B * mu + (1-B) * d_est\n",
    "post_s = np.sqrt(1/(1/s_modified**2+1/tau**2))\n",
    "post_d, post_s, post_d-1.95*post_s, post_d+1.95*post_s"
   ]
  },
  {
   "cell_type": "markdown",
   "metadata": {},
   "source": [
    "Predict for the president of U.S. using electoral college vote method."
   ]
  },
  {
   "cell_type": "code",
   "execution_count": 28,
   "metadata": {},
   "outputs": [],
   "source": [
    "polls = rdata['polls_us_election_2016'].copy()\n",
    "results = rdata['results_us_election_2016'].copy()"
   ]
  },
  {
   "cell_type": "code",
   "execution_count": 29,
   "metadata": {},
   "outputs": [],
   "source": [
    "polls = polls[(polls['state']!='U.S.') & (~polls['state'].str.contains('CD')) & (polls['enddate']>=date(2016,10,31))\\\n",
    "                                           & (polls['grade'].isin(['A+','A','A-','B+'])|polls['grade'].isna())]\n",
    "polls['spread'] = (polls['rawpoll_clinton'] - polls['rawpoll_trump']) / 100"
   ]
  },
  {
   "cell_type": "code",
   "execution_count": 30,
   "metadata": {
    "scrolled": false
   },
   "outputs": [
    {
     "data": {
      "text/html": [
       "<div>\n",
       "<style scoped>\n",
       "    .dataframe tbody tr th:only-of-type {\n",
       "        vertical-align: middle;\n",
       "    }\n",
       "\n",
       "    .dataframe tbody tr th {\n",
       "        vertical-align: top;\n",
       "    }\n",
       "\n",
       "    .dataframe thead th {\n",
       "        text-align: right;\n",
       "    }\n",
       "</style>\n",
       "<table border=\"1\" class=\"dataframe\">\n",
       "  <thead>\n",
       "    <tr style=\"text-align: right;\">\n",
       "      <th></th>\n",
       "      <th>state</th>\n",
       "      <th>startdate</th>\n",
       "      <th>enddate</th>\n",
       "      <th>pollster</th>\n",
       "      <th>grade</th>\n",
       "      <th>samplesize</th>\n",
       "      <th>population</th>\n",
       "      <th>rawpoll_clinton</th>\n",
       "      <th>rawpoll_trump</th>\n",
       "      <th>rawpoll_johnson</th>\n",
       "      <th>rawpoll_mcmullin</th>\n",
       "      <th>adjpoll_clinton</th>\n",
       "      <th>adjpoll_trump</th>\n",
       "      <th>adjpoll_johnson</th>\n",
       "      <th>adjpoll_mcmullin</th>\n",
       "      <th>spread</th>\n",
       "    </tr>\n",
       "  </thead>\n",
       "  <tbody>\n",
       "    <tr>\n",
       "      <th>8</th>\n",
       "      <td>New Mexico</td>\n",
       "      <td>2016-11-06</td>\n",
       "      <td>2016-11-06</td>\n",
       "      <td>Zia Poll</td>\n",
       "      <td>NaN</td>\n",
       "      <td>8439</td>\n",
       "      <td>lv</td>\n",
       "      <td>46.0</td>\n",
       "      <td>44.0</td>\n",
       "      <td>6.0</td>\n",
       "      <td>NaN</td>\n",
       "      <td>44.82594</td>\n",
       "      <td>41.59978</td>\n",
       "      <td>7.870127</td>\n",
       "      <td>NaN</td>\n",
       "      <td>0.02</td>\n",
       "    </tr>\n",
       "    <tr>\n",
       "      <th>13</th>\n",
       "      <td>Virginia</td>\n",
       "      <td>2016-11-03</td>\n",
       "      <td>2016-11-04</td>\n",
       "      <td>Public Policy Polling</td>\n",
       "      <td>B+</td>\n",
       "      <td>1238</td>\n",
       "      <td>lv</td>\n",
       "      <td>48.0</td>\n",
       "      <td>43.0</td>\n",
       "      <td>1.0</td>\n",
       "      <td>NaN</td>\n",
       "      <td>47.43805</td>\n",
       "      <td>42.32751</td>\n",
       "      <td>2.207659</td>\n",
       "      <td>NaN</td>\n",
       "      <td>0.05</td>\n",
       "    </tr>\n",
       "    <tr>\n",
       "      <th>15</th>\n",
       "      <td>Iowa</td>\n",
       "      <td>2016-11-01</td>\n",
       "      <td>2016-11-04</td>\n",
       "      <td>Selzer &amp; Company</td>\n",
       "      <td>A+</td>\n",
       "      <td>800</td>\n",
       "      <td>lv</td>\n",
       "      <td>39.0</td>\n",
       "      <td>46.0</td>\n",
       "      <td>6.0</td>\n",
       "      <td>NaN</td>\n",
       "      <td>39.37561</td>\n",
       "      <td>45.66917</td>\n",
       "      <td>6.062713</td>\n",
       "      <td>NaN</td>\n",
       "      <td>-0.07</td>\n",
       "    </tr>\n",
       "    <tr>\n",
       "      <th>17</th>\n",
       "      <td>Wisconsin</td>\n",
       "      <td>2016-10-26</td>\n",
       "      <td>2016-10-31</td>\n",
       "      <td>Marquette University</td>\n",
       "      <td>A</td>\n",
       "      <td>1255</td>\n",
       "      <td>lv</td>\n",
       "      <td>46.0</td>\n",
       "      <td>40.0</td>\n",
       "      <td>4.0</td>\n",
       "      <td>NaN</td>\n",
       "      <td>46.10344</td>\n",
       "      <td>40.97982</td>\n",
       "      <td>2.897062</td>\n",
       "      <td>NaN</td>\n",
       "      <td>0.06</td>\n",
       "    </tr>\n",
       "    <tr>\n",
       "      <th>18</th>\n",
       "      <td>North Carolina</td>\n",
       "      <td>2016-11-04</td>\n",
       "      <td>2016-11-06</td>\n",
       "      <td>Siena College</td>\n",
       "      <td>A</td>\n",
       "      <td>800</td>\n",
       "      <td>lv</td>\n",
       "      <td>44.0</td>\n",
       "      <td>44.0</td>\n",
       "      <td>3.0</td>\n",
       "      <td>NaN</td>\n",
       "      <td>44.21875</td>\n",
       "      <td>45.08290</td>\n",
       "      <td>2.335250</td>\n",
       "      <td>NaN</td>\n",
       "      <td>0.00</td>\n",
       "    </tr>\n",
       "  </tbody>\n",
       "</table>\n",
       "</div>"
      ],
      "text/plain": [
       "             state   startdate     enddate               pollster grade  \\\n",
       "8       New Mexico  2016-11-06  2016-11-06               Zia Poll   NaN   \n",
       "13        Virginia  2016-11-03  2016-11-04  Public Policy Polling    B+   \n",
       "15            Iowa  2016-11-01  2016-11-04       Selzer & Company    A+   \n",
       "17       Wisconsin  2016-10-26  2016-10-31   Marquette University     A   \n",
       "18  North Carolina  2016-11-04  2016-11-06          Siena College     A   \n",
       "\n",
       "   samplesize population  rawpoll_clinton  rawpoll_trump  rawpoll_johnson  \\\n",
       "8        8439         lv             46.0           44.0              6.0   \n",
       "13       1238         lv             48.0           43.0              1.0   \n",
       "15        800         lv             39.0           46.0              6.0   \n",
       "17       1255         lv             46.0           40.0              4.0   \n",
       "18        800         lv             44.0           44.0              3.0   \n",
       "\n",
       "    rawpoll_mcmullin  adjpoll_clinton  adjpoll_trump  adjpoll_johnson  \\\n",
       "8                NaN         44.82594       41.59978         7.870127   \n",
       "13               NaN         47.43805       42.32751         2.207659   \n",
       "15               NaN         39.37561       45.66917         6.062713   \n",
       "17               NaN         46.10344       40.97982         2.897062   \n",
       "18               NaN         44.21875       45.08290         2.335250   \n",
       "\n",
       "    adjpoll_mcmullin  spread  \n",
       "8                NaN    0.02  \n",
       "13               NaN    0.05  \n",
       "15               NaN   -0.07  \n",
       "17               NaN    0.06  \n",
       "18               NaN    0.00  "
      ]
     },
     "execution_count": 30,
     "metadata": {},
     "output_type": "execute_result"
    }
   ],
   "source": [
    "polls.head(5)"
   ]
  },
  {
   "cell_type": "code",
   "execution_count": 69,
   "metadata": {
    "scrolled": true
   },
   "outputs": [
    {
     "data": {
      "text/html": [
       "<div>\n",
       "<style scoped>\n",
       "    .dataframe tbody tr th:only-of-type {\n",
       "        vertical-align: middle;\n",
       "    }\n",
       "\n",
       "    .dataframe tbody tr th {\n",
       "        vertical-align: top;\n",
       "    }\n",
       "\n",
       "    .dataframe thead th {\n",
       "        text-align: right;\n",
       "    }\n",
       "</style>\n",
       "<table border=\"1\" class=\"dataframe\">\n",
       "  <thead>\n",
       "    <tr style=\"text-align: right;\">\n",
       "      <th></th>\n",
       "      <th>state</th>\n",
       "      <th>ave</th>\n",
       "      <th>std</th>\n",
       "      <th>size</th>\n",
       "      <th>electoral_votes</th>\n",
       "      <th>clinton</th>\n",
       "      <th>trump</th>\n",
       "      <th>others</th>\n",
       "    </tr>\n",
       "  </thead>\n",
       "  <tbody>\n",
       "    <tr>\n",
       "      <th>0</th>\n",
       "      <td>Florida</td>\n",
       "      <td>0.003557</td>\n",
       "      <td>0.016350</td>\n",
       "      <td>7</td>\n",
       "      <td>29</td>\n",
       "      <td>47.8</td>\n",
       "      <td>49.0</td>\n",
       "      <td>3.2</td>\n",
       "    </tr>\n",
       "    <tr>\n",
       "      <th>1</th>\n",
       "      <td>North Carolina</td>\n",
       "      <td>-0.007300</td>\n",
       "      <td>0.030621</td>\n",
       "      <td>9</td>\n",
       "      <td>15</td>\n",
       "      <td>46.2</td>\n",
       "      <td>49.8</td>\n",
       "      <td>4.0</td>\n",
       "    </tr>\n",
       "    <tr>\n",
       "      <th>2</th>\n",
       "      <td>Ohio</td>\n",
       "      <td>-0.010417</td>\n",
       "      <td>0.025225</td>\n",
       "      <td>6</td>\n",
       "      <td>18</td>\n",
       "      <td>43.5</td>\n",
       "      <td>51.7</td>\n",
       "      <td>4.8</td>\n",
       "    </tr>\n",
       "    <tr>\n",
       "      <th>3</th>\n",
       "      <td>Nevada</td>\n",
       "      <td>0.016857</td>\n",
       "      <td>0.044068</td>\n",
       "      <td>7</td>\n",
       "      <td>6</td>\n",
       "      <td>47.9</td>\n",
       "      <td>45.5</td>\n",
       "      <td>6.6</td>\n",
       "    </tr>\n",
       "    <tr>\n",
       "      <th>4</th>\n",
       "      <td>Iowa</td>\n",
       "      <td>-0.019733</td>\n",
       "      <td>0.043665</td>\n",
       "      <td>3</td>\n",
       "      <td>6</td>\n",
       "      <td>41.7</td>\n",
       "      <td>51.1</td>\n",
       "      <td>7.1</td>\n",
       "    </tr>\n",
       "  </tbody>\n",
       "</table>\n",
       "</div>"
      ],
      "text/plain": [
       "            state       ave       std  size  electoral_votes  clinton  trump  \\\n",
       "0         Florida  0.003557  0.016350     7               29     47.8   49.0   \n",
       "1  North Carolina -0.007300  0.030621     9               15     46.2   49.8   \n",
       "2            Ohio -0.010417  0.025225     6               18     43.5   51.7   \n",
       "3          Nevada  0.016857  0.044068     7                6     47.9   45.5   \n",
       "4            Iowa -0.019733  0.043665     3                6     41.7   51.1   \n",
       "\n",
       "   others  \n",
       "0     3.2  \n",
       "1     4.0  \n",
       "2     4.8  \n",
       "3     6.6  \n",
       "4     7.1  "
      ]
     },
     "execution_count": 69,
     "metadata": {},
     "output_type": "execute_result"
    }
   ],
   "source": [
    "ave = polls.groupby('state')['spread'].mean().rename('ave')\n",
    "std = polls.groupby('state')['spread'].std().rename('std')\n",
    "size = polls.groupby('state')['spread'].count().rename('size')\n",
    "pre_state = pd.concat([ave, std, size], axis=1).dropna(subset=['ave'])\n",
    "pre_state.fillna(pre_state['std'].mean(), inplace=True)\n",
    "pre_state = pre_state.sort_values(by=['ave'], key=lambda col: col.abs())\n",
    "pre_state = pre_state.merge(results, how='left', on='state')\n",
    "pre_state.head(5)"
   ]
  },
  {
   "cell_type": "code",
   "execution_count": 70,
   "metadata": {},
   "outputs": [
    {
     "data": {
      "text/html": [
       "<div>\n",
       "<style scoped>\n",
       "    .dataframe tbody tr th:only-of-type {\n",
       "        vertical-align: middle;\n",
       "    }\n",
       "\n",
       "    .dataframe tbody tr th {\n",
       "        vertical-align: top;\n",
       "    }\n",
       "\n",
       "    .dataframe thead th {\n",
       "        text-align: right;\n",
       "    }\n",
       "</style>\n",
       "<table border=\"1\" class=\"dataframe\">\n",
       "  <thead>\n",
       "    <tr style=\"text-align: right;\">\n",
       "      <th></th>\n",
       "      <th>state</th>\n",
       "      <th>electoral_votes</th>\n",
       "      <th>clinton</th>\n",
       "      <th>trump</th>\n",
       "      <th>others</th>\n",
       "    </tr>\n",
       "  </thead>\n",
       "  <tbody>\n",
       "    <tr>\n",
       "      <th>42</th>\n",
       "      <td>Rhode Island</td>\n",
       "      <td>4</td>\n",
       "      <td>54.4</td>\n",
       "      <td>38.9</td>\n",
       "      <td>6.7</td>\n",
       "    </tr>\n",
       "    <tr>\n",
       "      <th>43</th>\n",
       "      <td>Alaska</td>\n",
       "      <td>3</td>\n",
       "      <td>36.6</td>\n",
       "      <td>51.3</td>\n",
       "      <td>12.2</td>\n",
       "    </tr>\n",
       "    <tr>\n",
       "      <th>49</th>\n",
       "      <td>Wyoming</td>\n",
       "      <td>3</td>\n",
       "      <td>21.9</td>\n",
       "      <td>68.2</td>\n",
       "      <td>10.0</td>\n",
       "    </tr>\n",
       "    <tr>\n",
       "      <th>50</th>\n",
       "      <td>District of Columbia</td>\n",
       "      <td>3</td>\n",
       "      <td>90.9</td>\n",
       "      <td>4.1</td>\n",
       "      <td>5.0</td>\n",
       "    </tr>\n",
       "  </tbody>\n",
       "</table>\n",
       "</div>"
      ],
      "text/plain": [
       "                   state  electoral_votes  clinton  trump  others\n",
       "42          Rhode Island                4     54.4   38.9     6.7\n",
       "43                Alaska                3     36.6   51.3    12.2\n",
       "49               Wyoming                3     21.9   68.2    10.0\n",
       "50  District of Columbia                3     90.9    4.1     5.0"
      ]
     },
     "execution_count": 70,
     "metadata": {},
     "output_type": "execute_result"
    }
   ],
   "source": [
    "results[~results['state'].isin(pre_state['state'])]"
   ]
  },
  {
   "cell_type": "code",
   "execution_count": 71,
   "metadata": {},
   "outputs": [
    {
     "data": {
      "text/html": [
       "<div>\n",
       "<style scoped>\n",
       "    .dataframe tbody tr th:only-of-type {\n",
       "        vertical-align: middle;\n",
       "    }\n",
       "\n",
       "    .dataframe tbody tr th {\n",
       "        vertical-align: top;\n",
       "    }\n",
       "\n",
       "    .dataframe thead th {\n",
       "        text-align: right;\n",
       "    }\n",
       "</style>\n",
       "<table border=\"1\" class=\"dataframe\">\n",
       "  <thead>\n",
       "    <tr style=\"text-align: right;\">\n",
       "      <th></th>\n",
       "      <th>state</th>\n",
       "      <th>ave</th>\n",
       "      <th>std</th>\n",
       "      <th>size</th>\n",
       "      <th>electoral_votes</th>\n",
       "      <th>clinton</th>\n",
       "      <th>trump</th>\n",
       "      <th>others</th>\n",
       "      <th>sigma</th>\n",
       "      <th>B</th>\n",
       "      <th>post_ave</th>\n",
       "      <th>post_std</th>\n",
       "    </tr>\n",
       "  </thead>\n",
       "  <tbody>\n",
       "    <tr>\n",
       "      <th>0</th>\n",
       "      <td>Florida</td>\n",
       "      <td>0.003557</td>\n",
       "      <td>0.016350</td>\n",
       "      <td>7</td>\n",
       "      <td>29</td>\n",
       "      <td>47.8</td>\n",
       "      <td>49.0</td>\n",
       "      <td>3.2</td>\n",
       "      <td>0.006180</td>\n",
       "      <td>0.087148</td>\n",
       "      <td>0.003247</td>\n",
       "      <td>0.005904</td>\n",
       "    </tr>\n",
       "    <tr>\n",
       "      <th>1</th>\n",
       "      <td>North Carolina</td>\n",
       "      <td>-0.007300</td>\n",
       "      <td>0.030621</td>\n",
       "      <td>9</td>\n",
       "      <td>15</td>\n",
       "      <td>46.2</td>\n",
       "      <td>49.8</td>\n",
       "      <td>4.0</td>\n",
       "      <td>0.010207</td>\n",
       "      <td>0.206635</td>\n",
       "      <td>-0.005792</td>\n",
       "      <td>0.009091</td>\n",
       "    </tr>\n",
       "    <tr>\n",
       "      <th>2</th>\n",
       "      <td>Ohio</td>\n",
       "      <td>-0.010417</td>\n",
       "      <td>0.025225</td>\n",
       "      <td>6</td>\n",
       "      <td>18</td>\n",
       "      <td>43.5</td>\n",
       "      <td>51.7</td>\n",
       "      <td>4.8</td>\n",
       "      <td>0.010298</td>\n",
       "      <td>0.209562</td>\n",
       "      <td>-0.008234</td>\n",
       "      <td>0.009156</td>\n",
       "    </tr>\n",
       "    <tr>\n",
       "      <th>3</th>\n",
       "      <td>Nevada</td>\n",
       "      <td>0.016857</td>\n",
       "      <td>0.044068</td>\n",
       "      <td>7</td>\n",
       "      <td>6</td>\n",
       "      <td>47.9</td>\n",
       "      <td>45.5</td>\n",
       "      <td>6.6</td>\n",
       "      <td>0.016656</td>\n",
       "      <td>0.409531</td>\n",
       "      <td>0.009954</td>\n",
       "      <td>0.012799</td>\n",
       "    </tr>\n",
       "    <tr>\n",
       "      <th>4</th>\n",
       "      <td>Iowa</td>\n",
       "      <td>-0.019733</td>\n",
       "      <td>0.043665</td>\n",
       "      <td>3</td>\n",
       "      <td>6</td>\n",
       "      <td>41.7</td>\n",
       "      <td>51.1</td>\n",
       "      <td>7.1</td>\n",
       "      <td>0.025210</td>\n",
       "      <td>0.613727</td>\n",
       "      <td>-0.007622</td>\n",
       "      <td>0.015668</td>\n",
       "    </tr>\n",
       "  </tbody>\n",
       "</table>\n",
       "</div>"
      ],
      "text/plain": [
       "            state       ave       std  size  electoral_votes  clinton  trump  \\\n",
       "0         Florida  0.003557  0.016350     7               29     47.8   49.0   \n",
       "1  North Carolina -0.007300  0.030621     9               15     46.2   49.8   \n",
       "2            Ohio -0.010417  0.025225     6               18     43.5   51.7   \n",
       "3          Nevada  0.016857  0.044068     7                6     47.9   45.5   \n",
       "4            Iowa -0.019733  0.043665     3                6     41.7   51.1   \n",
       "\n",
       "   others     sigma         B  post_ave  post_std  \n",
       "0     3.2  0.006180  0.087148  0.003247  0.005904  \n",
       "1     4.0  0.010207  0.206635 -0.005792  0.009091  \n",
       "2     4.8  0.010298  0.209562 -0.008234  0.009156  \n",
       "3     6.6  0.016656  0.409531  0.009954  0.012799  \n",
       "4     7.1  0.025210  0.613727 -0.007622  0.015668  "
      ]
     },
     "execution_count": 71,
     "metadata": {},
     "output_type": "execute_result"
    }
   ],
   "source": [
    "# Bayesian Method\n",
    "mu = 0\n",
    "tau = 0.02\n",
    "pre_state['sigma'] = pre_state['std'] / np.sqrt(pre_state['size'])\n",
    "pre_state['B'] = pre_state['sigma']**2 / (pre_state['sigma']**2 + tau**2)\n",
    "pre_state['post_ave'] = pre_state['B'] * mu + (1-pre_state['B']) * pre_state['ave']\n",
    "pre_state['post_std'] = np.sqrt(1 / (1/pre_state['sigma']**2 + 1/tau**2))\n",
    "pre_state.head(5)"
   ]
  },
  {
   "cell_type": "code",
   "execution_count": 87,
   "metadata": {},
   "outputs": [
    {
     "data": {
      "image/png": "[encoded data removed]",
      "text/plain": [
       "<Figure size 432x288 with 1 Axes>"
      ]
     },
     "metadata": {
      "needs_background": "light"
     },
     "output_type": "display_data"
    }
   ],
   "source": [
    "# visualize how Bayesian Method rebuild 'ave' regard to different size\n",
    "plt.plot([-0.32,0.28], [-0.32,0.28], 'c')\n",
    "plt.plot(pre_state[pre_state['size']<=3]['ave'], pre_state[pre_state['size']<=3]['post_ave'], 'g.', label='size<=3')\n",
    "plt.plot(pre_state[(pre_state['size']>3) & (pre_state['size']<=8)]['ave'], \\\n",
    "         pre_state[(pre_state['size']>3) & (pre_state['size']<=8)]['post_ave'], 'b.', label='3<size<=8')\n",
    "plt.plot(pre_state[pre_state['size']>8]['ave'], pre_state[pre_state['size']>8]['post_ave'], 'r.', label='size>8')\n",
    "plt.legend()\n",
    "plt.grid()\n",
    "plt.show()"
   ]
  },
  {
   "cell_type": "code",
   "execution_count": 97,
   "metadata": {},
   "outputs": [
    {
     "data": {
      "text/plain": [
       "0.9988"
      ]
     },
     "execution_count": 97,
     "metadata": {},
     "output_type": "execute_result"
    }
   ],
   "source": [
    "N = 10000\n",
    "results = np.zeros(N)\n",
    "for i in range(N):\n",
    "    sample = np.random.normal(pre_state['post_ave'], pre_state['post_std'])\n",
    "    results[i] = pre_state[sample>0]['electoral_votes'].sum()+7\n",
    "(results>269).sum() / N"
   ]
  },
  {
   "cell_type": "markdown",
   "metadata": {},
   "source": [
    "modify the \"std\" to include the influence of common bias."
   ]
  },
  {
   "cell_type": "code",
   "execution_count": 98,
   "metadata": {},
   "outputs": [],
   "source": [
    "mu = 0\n",
    "tau = 0.02\n",
    "sigma_b = 0.03\n",
    "pre_state['sigma_modified'] = np.sqrt(pre_state['std']**2 / pre_state['size'] + sigma_b**2)\n",
    "pre_state['B_modified'] = pre_state['sigma_modified']**2 / (pre_state['sigma_modified']**2 + tau**2)\n",
    "pre_state['post_ave_modified'] = pre_state['B_modified'] * mu + (1-pre_state['B_modified']) * pre_state['ave']\n",
    "pre_state['post_std_modified'] = np.sqrt(1 / (1/pre_state['sigma_modified']**2 + 1/tau**2))"
   ]
  },
  {
   "cell_type": "code",
   "execution_count": 103,
   "metadata": {},
   "outputs": [
    {
     "data": {
      "text/plain": [
       "0.8378"
      ]
     },
     "execution_count": 103,
     "metadata": {},
     "output_type": "execute_result"
    }
   ],
   "source": [
    "N = 10000\n",
    "results_modified = np.zeros(N)\n",
    "for i in range(N):\n",
    "    sample = np.random.normal(pre_state['post_ave_modified'], pre_state['post_std_modified'])\n",
    "    results_modified[i] = pre_state[sample>0]['electoral_votes'].sum()+7\n",
    "(results_modified>269).sum() / N"
   ]
  },
  {
   "cell_type": "code",
   "execution_count": 112,
   "metadata": {},
   "outputs": [
    {
     "data": {
      "image/png": "[encoded data removed]",
      "text/plain": [
       "<Figure size 432x288 with 2 Axes>"
      ]
     },
     "metadata": {
      "needs_background": "light"
     },
     "output_type": "display_data"
    }
   ],
   "source": [
    "plt.subplot(3, 1, 1)\n",
    "plt.hist(results, bins=30)\n",
    "plt.plot([270,270], [0,2500], 'b')\n",
    "plt.title(\"number of votes for Clinton predicted by Beyesian Method\")\n",
    "plt.subplot(3, 1, 3)\n",
    "plt.hist(results_modified, bins=30)\n",
    "plt.plot([270,270], [0,1000], 'b')\n",
    "plt.title(\"number of votes for Clinton predicted by Beyesian Method modified with std of common bias\")\n",
    "plt.show()"
   ]
  },
  {
   "cell_type": "markdown",
   "metadata": {},
   "source": [
    "Visualize how time affect polling."
   ]
  },
  {
   "cell_type": "code",
   "execution_count": 113,
   "metadata": {},
   "outputs": [
    {
     "data": {
      "text/plain": [
       "(0.04025194279020039, 0.03256718644795854)"
      ]
     },
     "execution_count": 113,
     "metadata": {},
     "output_type": "execute_result"
    }
   ],
   "source": [
    "polls = rdata['polls_us_election_2016'].copy()\n",
    "polls = polls[(polls['state']=='U.S.') & (polls['pollster']=='Ipsos')]\n",
    "polls['spread'] = (polls['rawpoll_clinton'] - polls['rawpoll_trump']) / 100\n",
    "empirical_std = polls['spread'].std()\n",
    "theoretical_std = 2 * np.sqrt(polls['spread'].mean() * (1-polls['spread'].mean()) / polls['samplesize'].min())\n",
    "empirical_std, theoretical_std"
   ]
  },
  {
   "cell_type": "code",
   "execution_count": 114,
   "metadata": {},
   "outputs": [
    {
     "data": {
      "image/png": "[encoded data removed]",
      "text/plain": [
       "<Figure size 432x288 with 1 Axes>"
      ]
     },
     "metadata": {
      "needs_background": "light"
     },
     "output_type": "display_data"
    }
   ],
   "source": [
    "plt.hist(polls['spread'], bins=15)\n",
    "plt.show()"
   ]
  },
  {
   "cell_type": "markdown",
   "metadata": {},
   "source": [
    "The empirical_std does not match with the theoretical_std and the histgram of spread polled by Iposo is not consistent with normal distribution. Since we have eliminated the variability between pollsters, where is this extra variability come from? We intorduce a new term concerning time: $$Y_{i,j,t} = d + b + h_j + b_t + \\epsilon_{i,j,t}$$"
   ]
  },
  {
   "cell_type": "markdown",
   "metadata": {},
   "source": [
    "### 4. \n",
    "张某为了解自己患上了X疾病的可能性，去医院作常规血液检查。其结果居然为阳性，他赶忙到网上查询。根据网上的资料，血液检查实验是有误差的，这种实验有“1%的假阳性率和1%的假阴性率”（真的患病者得到阴性结果称为假阴性，未患病的人得到阳性结果称为假阳性）。即在得病的人中做实验，有1%的概率是假阴性，99％是真阳性。而在未得病的人中做实验，有1%的概率是假阳性，99％是真阴性。于是张某根据这种解释，估计他自己得了X疾病的概率为99%。张某的推理是，既然只有1%的假阳性率，那么，99%都是真阳性，那我已被感染X病的概率便应该是99%。\n",
    "张某咨询了医生，医生说：“99%？哪有那么大的感染几率啊。99％是测试的准确性，不是你得病的概率。你忘了一件事：这种X疾病的正常比例是不大的，1000个人中只有一个人有X病。”\n",
    "张某不放心，又做了一个尿液检查，进一步检查他患上了X疾病的可能性，其结果仍然为阳性，尿液检查的实验有“5%的假阳性率和5%的假阴性率”。\n"
   ]
  },
  {
   "cell_type": "markdown",
   "metadata": {},
   "source": [
    "**(a)** 张某初始计算感染X病的概率是99%，问题出在哪？"
   ]
  },
  {
   "cell_type": "markdown",
   "metadata": {},
   "source": [
    "此处99%指的是接受测试者患病的条件下，检测为阳性的概率是99%。而张某关心的是检测为阳性的条件下，接收测试者患病的概率。这两者是不同的。"
   ]
  },
  {
   "cell_type": "markdown",
   "metadata": {},
   "source": [
    "**(b)** 张某在血液检查之后感染X病的概率是多少？"
   ]
  },
  {
   "cell_type": "markdown",
   "metadata": {},
   "source": [
    "P(患病|血液检测阳性)=P(患病，血液检测阳性)/P(血液检测阳性)=(1/1000) * (99/100) / ((1/1000) * (99/100) + (999/1000) * (1/100))，约为9%."
   ]
  },
  {
   "cell_type": "markdown",
   "metadata": {},
   "source": [
    "**(c)** 张某在血液和尿液检查之后得X病的概率是多少？"
   ]
  },
  {
   "cell_type": "markdown",
   "metadata": {},
   "source": [
    "P(患病|血液检测阳性且尿液检查阳性)=P(患病，血液检测阳性且尿液检查阳性)/P(血液检测阳性且尿液检查阳性)=(1/1000) * (99/100) * (95/100) / ((1/1000) * (99/100) * (95/100) + (999/1000) * (1/100) * (5/100))，约为65%."
   ]
  },
  {
   "cell_type": "markdown",
   "metadata": {},
   "source": [
    "**(d)** 如果根据张某的家族遗传信息，他得X病的概率是百分之一，请问结合血液和尿液检查结果，张某得X病的概率是多少？"
   ]
  },
  {
   "cell_type": "markdown",
   "metadata": {},
   "source": [
    "P(患病|血液检测阳性且尿液检查阳性)=P(患病，血液检测阳性且尿液检查阳性)/P(血液检测阳性且尿液检查阳性)=(1/100) * (99/100) * (95/100) / ((1/100) * (99/100) * (95/100) + (99/100) * (1/100) * (5/100))，约为95%."
   ]
  },
  {
   "cell_type": "markdown",
   "metadata": {},
   "source": [
    "### 5. \n",
    "设想要对研究生论文抄袭现象进行社会调查。如果直接就此问题进行问卷调查，即使是无记名的，也会使被调查者感到尴尬。设计如下方案可使被调查者愿意做出真实的回答。\n",
    "在一个箱子里放进1个红球和1个白球。被调查者在摸到球后记住颜色并立刻将球放回，然后根据球的颜色分别回答如下问题。\n",
    "如果球是红色：你的生日是否在7月1日以前？\n",
    "如果球是白色：你做论文时是否有过抄袭行为？\n",
    "\n",
    "回答时只要在一张预备好的白纸上打√或打×，分别表示是或否。\n",
    "假定被调查者有150人，统计出有60个√，有抄袭行为的比率大概是多少？"
   ]
  },
  {
   "cell_type": "markdown",
   "metadata": {},
   "source": [
    "P(回答是|抽到白色球)=N(回答是，抽到白色球)/N(抽到白色球)=(N(回答是)-N(回答是，抽到红色球))/N(抽到白色球)=0.3，大概为30%."
   ]
  },
  {
   "cell_type": "markdown",
   "metadata": {},
   "source": [
    "### 6. \n",
    "什么是模型？观测数据、模型与真实的世界的关系？新冠疫情是否可预测？结合COVID-19 作为实例。"
   ]
  },
  {
   "cell_type": "markdown",
   "metadata": {},
   "source": [
    "模型是现实世界的简化版，去除现实世界中我们不关心的部分，去除现实世界中和我们关心的问题弱相关的部分，抽象现实世界中和我们关心的问题强相关的部分。这样经过简化和抽象得到的模型有助于我们理解现实世界，并且求解它的结果有助于指导现实生活。观测数据是认识现实世界的一种渠道，我们基于对现实世界的经验理解和观测数据建立模型。尽管许多对新冠疫情所做的预测都被时间否定了，但新冠疫情并非不可预测，预测结果有误可能是由于信息不足或模型有误产生的，通过囊括更多的有效信息和构建更能反映现实世界的模型，我们就能做出更精确的预测。"
   ]
  },
  {
   "cell_type": "markdown",
   "metadata": {},
   "source": [
    "### 7. \n",
    "从三个实例的解读，你理解的数据建模的要素和流程？举一个数据建模的例子来支持自己的观点。"
   ]
  },
  {
   "cell_type": "markdown",
   "metadata": {},
   "source": [
    "首先是对数据的探索性分析（主观臆测不可取，需要通过对数据的探索性分析来建立对问题的准确认识），接下来是基于对问题的认识构建模型（这中间可能需要根据模型求解的结果反复修改初始模型），最后是对预测结果的信度，模型的鲁棒性，敏感性等风险说明方面的计算。比如上文第3题的总统选举结果预测的例子。"
   ]
  }
 ],
 "metadata": {
  "kernelspec": {
   "display_name": "Python 3",
   "language": "python",
   "name": "python3"
  },
  "language_info": {
   "codemirror_mode": {
    "name": "ipython",
    "version": 3
   },
   "file_extension": ".py",
   "mimetype": "text/x-python",
   "name": "python",
   "nbconvert_exporter": "python",
   "pygments_lexer": "ipython3",
   "version": "3.7.6"
  }
 },
 "nbformat": 4,
 "nbformat_minor": 4
}
